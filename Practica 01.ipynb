{
 "cells": [
  {
   "cell_type": "code",
   "execution_count": 1,
   "id": "3e116a36",
   "metadata": {},
   "outputs": [
    {
     "name": "stdout",
     "output_type": "stream",
     "text": [
      "La version de Open Cv es:\n",
      "4.6.0\n"
     ]
    }
   ],
   "source": [
    "import cv2\n",
    "print(\"La version de Open Cv es:\")\n",
    "print(cv2.__version__)"
   ]
  },
  {
   "cell_type": "code",
   "execution_count": 3,
   "id": "852f3b9d",
   "metadata": {},
   "outputs": [],
   "source": [
    "import cv2  \n",
    "import numpy as np  \n",
    "import matplotlib.pyplot as plt\n",
    "import pandas as pd"
   ]
  },
  {
   "cell_type": "code",
   "execution_count": 4,
   "id": "3d8ce4f1",
   "metadata": {},
   "outputs": [],
   "source": [
    "#importar el módulo OpenCV\n",
    "import cv2\n",
    "# cargar imagen\n",
    "img = cv2.imread(\"images/lena.jpg\")\n",
    "if img is None:\n",
    "    print(\"Imagen no encontrada\")\n",
    "    # Display the image\n",
    "cv2.imshow(\"Lion\",img)\n",
    "cv2.waitKey(0)\n",
    "cv2.destroyAllWindows()"
   ]
  },
  {
   "cell_type": "code",
   "execution_count": 4,
   "id": "74033843",
   "metadata": {},
   "outputs": [
    {
     "name": "stdout",
     "output_type": "stream",
     "text": [
      "Dimensiones de la imagen:  3\n",
      "Altura de la imagen:  400\n",
      "Ancho de la imagen:  640\n",
      "Canales de la imagen:  3\n",
      "Tamaño en bytes del arreglo imagen:  768000\n"
     ]
    },
    {
     "data": {
      "text/plain": [
       "array([[ 40,  55, 134],\n",
       "       [ 40,  55, 134],\n",
       "       [ 40,  55, 134],\n",
       "       ...,\n",
       "       [ 46,  91, 255],\n",
       "       [ 46,  91, 255],\n",
       "       [ 46,  91, 255]], dtype=uint8)"
      ]
     },
     "execution_count": 4,
     "metadata": {},
     "output_type": "execute_result"
    }
   ],
   "source": [
    "import cv2\n",
    "# ruta de la imagen\n",
    "image_path = \"images/marsrover.png\"\n",
    "# Leer la imagen de esa dirección\n",
    "image = cv2.imread(image_path)\n",
    "# La imagen es un array NumPy\n",
    "print(\"Dimensiones de la imagen: \", image.ndim)\n",
    "print(\"Altura de la imagen: \", format(image.shape[0]))\n",
    "print(\"Ancho de la imagen: \", format(image.shape[1]))\n",
    "print(\"Canales de la imagen: \", format(image.shape[2]))\n",
    "print(\"Tamaño en bytes del arreglo imagen: \", image.size)\n",
    "# Mostrar la imagen y esperar hasta presionar una tecla\n",
    "cv2.imshow(\"Mi imagen\", image)\n",
    "cv2.waitKey(0)\n",
    "cv2.destroyAllWindows()\n",
    "image[0]"
   ]
  },
  {
   "cell_type": "code",
   "execution_count": 7,
   "id": "f88dd0ba",
   "metadata": {},
   "outputs": [
    {
     "name": "stdout",
     "output_type": "stream",
     "text": [
      "Valores Red, Green y Blue del pixel (0,0):  (40, 55, 134)\n"
     ]
    }
   ],
   "source": [
    "import cv2\n",
    "# dirección de la imagen\n",
    "image_path = \"images/marsrover.png\"\n",
    "# Leer o cargar la imagen de esa dirección\n",
    "image = cv2.imread(image_path)\n",
    "# Acceder al pixel en la ubicación (0,0)\n",
    "(b, g, r) = image[0,0]\n",
    "print(\"Valores Red, Green y Blue del pixel (0,0): \", format((b, g, r)))\n",
    "# Manipuar pixels y mostrar la imagen modificada\n",
    "image[0:100, 0:100] = (255, 255, 0)\n",
    "cv2.imshow(\"Imagen modificada\", image)\n",
    "cv2.waitKey(0)\n",
    "cv2.destroyAllWindows()"
   ]
  },
  {
   "cell_type": "code",
   "execution_count": null,
   "id": "d71eba08",
   "metadata": {},
   "outputs": [],
   "source": []
  }
 ],
 "metadata": {
  "kernelspec": {
   "display_name": "Python 3 (ipykernel)",
   "language": "python",
   "name": "python3"
  },
  "language_info": {
   "codemirror_mode": {
    "name": "ipython",
    "version": 3
   },
   "file_extension": ".py",
   "mimetype": "text/x-python",
   "name": "python",
   "nbconvert_exporter": "python",
   "pygments_lexer": "ipython3",
   "version": "3.9.12"
  }
 },
 "nbformat": 4,
 "nbformat_minor": 5
}
