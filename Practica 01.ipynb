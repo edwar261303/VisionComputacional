{
 "cells": [
  {
   "cell_type": "code",
   "execution_count": 1,
   "id": "3e116a36",
   "metadata": {},
   "outputs": [
    {
     "name": "stdout",
     "output_type": "stream",
     "text": [
      "La version de Open Cv es:\n",
      "4.6.0\n"
     ]
    }
   ],
   "source": [
    "import cv2\n",
    "print(\"La version de Open Cv es:\")\n",
    "print(cv2.__version__)"
   ]
  },
  {
   "cell_type": "code",
   "execution_count": 3,
   "id": "852f3b9d",
   "metadata": {},
   "outputs": [],
   "source": [
    "import cv2  \n",
    "import numpy as np  \n",
    "import matplotlib.pyplot as plt\n",
    "import pandas as pd"
   ]
  },
  {
   "cell_type": "code",
   "execution_count": 4,
   "id": "3d8ce4f1",
   "metadata": {},
   "outputs": [],
   "source": [
    "#importar el módulo OpenCV\n",
    "import cv2\n",
    "# cargar imagen\n",
    "img = cv2.imread(\"images/lena.jpg\")\n",
    "if img is None:\n",
    "    print(\"Imagen no encontrada\")\n",
    "    # Display the image\n",
    "cv2.imshow(\"Lion\",img)\n",
    "cv2.waitKey(0)\n",
    "cv2.destroyAllWindows()"
   ]
  },
  {
   "cell_type": "code",
   "execution_count": null,
   "id": "74033843",
   "metadata": {},
   "outputs": [],
   "source": []
  }
 ],
 "metadata": {
  "kernelspec": {
   "display_name": "Python 3 (ipykernel)",
   "language": "python",
   "name": "python3"
  },
  "language_info": {
   "codemirror_mode": {
    "name": "ipython",
    "version": 3
   },
   "file_extension": ".py",
   "mimetype": "text/x-python",
   "name": "python",
   "nbconvert_exporter": "python",
   "pygments_lexer": "ipython3",
   "version": "3.9.12"
  }
 },
 "nbformat": 4,
 "nbformat_minor": 5
}
