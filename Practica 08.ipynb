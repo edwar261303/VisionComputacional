{
 "cells": [
  {
   "cell_type": "code",
   "execution_count": null,
   "id": "9e4933c1",
   "metadata": {},
   "outputs": [],
   "source": [
    "#1 contorno"
   ]
  },
  {
   "cell_type": "code",
   "execution_count": 1,
   "id": "9b1f0e67",
   "metadata": {},
   "outputs": [
    {
     "name": "stdout",
     "output_type": "stream",
     "text": [
      "El número total de contornos detectados es:\n",
      "3\n"
     ]
    }
   ],
   "source": [
    "import cv2 \n",
    "#--Lea la imagen como una imagen BGR: \n",
    "image = cv2.imread('images/sample shapes.png') \n",
    "#--Conviértelo a escala de grises: \n",
    "gray_image = cv2.cvtColor(image, cv2.COLOR_BGR2GRAY) \n",
    "cv2.imshow('gray' , gray_image) \n",
    "cv2.waitKey(0) \n",
    "cv2.destroyAllWindows() \n",
    "#--Convertir a imagen binaria con Otsu \n",
    "ret,binary_im = cv2.threshold(gray_image,0,255,cv2.THRESH_OTSU) \n",
    "cv2.imshow('imagen binaria', binary_im) \n",
    "cv2.waitKey(0) \n",
    "cv2.destroyAllWindows() \n",
    "#--Invierta la imagen y muéstrela \n",
    "inverted_binary_im= ~binary_im \n",
    "cv2.imshow('inverso de la imagen binaria', inverted_binary_im) \n",
    "cv2.waitKey(0) \n",
    "cv2.destroyAllWindows() \n",
    "#--Encuentra los contornos en la imagen binaria \n",
    "contours,hierarchy = cv2.findContours(inverted_binary_im, cv2.RETR_TREE, cv2.CHAIN_APPROX_SIMPLE) \n",
    "#--Marque todos los contornos detectados en la imagen BGR original en  cualquier color (digamos, verde).  \n",
    "#--Estableceremos el grosor en 3: \n",
    "with_contours = cv2.drawContours(image, contours, -1,(0,255,0),3) \n",
    "cv2.imshow('Contornos detectados en la imagen RGB', with_contours) \n",
    "cv2.waitKey(0) \n",
    "cv2.destroyAllWindows() \n",
    "#--Finalmente, muestre el recuento total de los contornos detectados: \n",
    "print('El número total de contornos detectados es:') \n",
    "print(len(contours))  "
   ]
  },
  {
   "cell_type": "code",
   "execution_count": null,
   "id": "32b1fe91",
   "metadata": {},
   "outputs": [],
   "source": [
    "#2 contorno "
   ]
  },
  {
   "cell_type": "code",
   "execution_count": 5,
   "id": "7e10e63d",
   "metadata": {},
   "outputs": [
    {
     "name": "stdout",
     "output_type": "stream",
     "text": [
      "El número total de contornos detectados es:\n",
      "3\n"
     ]
    }
   ],
   "source": [
    "import cv2\n",
    "#--Lea la imagen como una imagen BGR:\n",
    "image = cv2.imread('images/sample shapes.png')\n",
    "#--Conviértelo a escala de grises:\n",
    "gray_image = cv2.cvtColor(image, cv2.COLOR_BGR2GRAY)\n",
    "cv2.imshow('gray' , gray_image)\n",
    "cv2.waitKey(0)\n",
    "cv2.destroyAllWindows()\n",
    "#--Convertir a imagen binaria con Otsu\n",
    "ret,binary_im = cv2.threshold(gray_image,0,255,cv2.THRESH_OTSU)\n",
    "cv2.imshow('imagen binaria', binary_im)\n",
    "cv2.waitKey(0)\n",
    "cv2.destroyAllWindows()\n",
    "\n",
    "#--Invierta la imagen y muéstrela\n",
    "inverted_binary_im= ~binary_im\n",
    "cv2.imshow('inverso de la imagen binaria', inverted_binary_im)\n",
    "cv2.waitKey(0)\n",
    "cv2.destroyAllWindows()\n",
    "#--la imagen debe tener tres canales, replicaremos el plano único de la \n",
    "# imagen binaria tres veces y luego fusionaremos los tres planos para \n",
    "# extenderlo al espacio de color BGR.\n",
    "bgr = cv2.merge([inverted_binary_im, inverted_binary_im, inverted_binary_im]);\n",
    "#--Encuentra los contornos en la imagen binaria\n",
    "contours,hierarchy = cv2.findContours(inverted_binary_im, cv2.RETR_TREE, cv2.CHAIN_APPROX_SIMPLE)\n",
    "#--Marque todos los contornos detectados en la imagen BGR original en cualquier color (digamos, verde). \n",
    "#--Estableceremos el grosor en 3:\n",
    "with_contours = cv2.drawContours(bgr, contours, -1, (255,0, 0),3)\n",
    "cv2.imshow('Contornos detectados', with_contours)\n",
    "cv2.waitKey(0)\n",
    "cv2.destroyAllWindows()\n",
    "#--Finalmente, muestre el recuento total de los contornos detectados:\n",
    "print('El número total de contornos detectados es:')\n",
    "print(len(contours))"
   ]
  },
  {
   "cell_type": "code",
   "execution_count": 3,
   "id": "5469004f",
   "metadata": {},
   "outputs": [],
   "source": [
    "#3 contornos con diferentes colores"
   ]
  },
  {
   "cell_type": "code",
   "execution_count": 6,
   "id": "076efb5b",
   "metadata": {},
   "outputs": [
    {
     "name": "stdout",
     "output_type": "stream",
     "text": [
      "El número total de contornos detectados es:\n",
      "3\n"
     ]
    }
   ],
   "source": [
    "import cv2\n",
    "#--Lea la imagen como una imagen BGR:\n",
    "image = cv2.imread('images/sample shapes.png')\n",
    "#--Conviértelo a escala de grises:\n",
    "gray_image = cv2.cvtColor(image, cv2.COLOR_BGR2GRAY)\n",
    "cv2.imshow('gray' , gray_image)\n",
    "cv2.waitKey(0)\n",
    "cv2.destroyAllWindows()\n",
    "#--Convertir a imagen binaria con Otsu\n",
    "ret,binary_im = cv2.threshold(gray_image,0,255,cv2.THRESH_OTSU)\n",
    "cv2.imshow('imagen binaria', binary_im)\n",
    "cv2.waitKey(0)\n",
    "cv2.destroyAllWindows()\n",
    "\n",
    "#--Invierta la imagen y muéstrela\n",
    "inverted_binary_im= ~binary_im\n",
    "cv2.imshow('inverso de la imagen binaria', inverted_binary_im)\n",
    "cv2.waitKey(0)\n",
    "cv2.destroyAllWindows()\n",
    "#--la imagen debe tener tres canales, replicaremos el plano único de la \n",
    "# imagen binaria tres veces y luego fusionaremos los tres planos para \n",
    "# extenderlo al espacio de color BGR.\n",
    "bgr = cv2.merge([inverted_binary_im, inverted_binary_im, inverted_binary_im]);\n",
    "#--Encuentra los contornos en la imagen binaria\n",
    "contours,hierarchy = cv2.findContours(inverted_binary_im, cv2.RETR_TREE, cv2.CHAIN_APPROX_SIMPLE)\n",
    "#--Marque todos los contornos detectados en la imagen BGR original en cualquier color (digamos, verde). \n",
    "#--Estableceremos el grosor en 3:\n",
    "\n",
    "with_contours = cv2.drawContours(bgr, contours, 0,(0,0,255),10)\n",
    "with_contours = cv2.drawContours(with_contours, contours, 1,(0, 255, 0),20)\n",
    "with_contours = cv2.drawContours(with_contours, contours, 2, (255,0, 0), 30)\n",
    "\n",
    "cv2.imshow('Contornos detectados', with_contours)\n",
    "cv2.waitKey(0)\n",
    "cv2.destroyAllWindows()\n",
    "#--Finalmente, muestre el recuento total de los contornos detectados:\n",
    "print('El número total de contornos detectados es:')\n",
    "print(len(contours))"
   ]
  },
  {
   "cell_type": "code",
   "execution_count": null,
   "id": "85beef55",
   "metadata": {},
   "outputs": [],
   "source": [
    "#4"
   ]
  },
  {
   "cell_type": "code",
   "execution_count": 3,
   "id": "4824bf49",
   "metadata": {},
   "outputs": [
    {
     "name": "stdout",
     "output_type": "stream",
     "text": [
      "Información de jerarquía de todos los contornos:\n",
      "[[[ 1 -1 -1 -1]\n",
      "  [-1  0  2 -1]\n",
      "  [-1 -1 -1  1]]]\n",
      "Información de jerarquía del contorno actual:\n",
      "[ 1 -1 -1 -1]\n",
      "Se detecta el contorno del perno\n",
      "Información de jerarquía del contorno actual:\n",
      "[-1  0  2 -1]\n",
      "Información de jerarquía del contorno actual:\n",
      "[-1 -1 -1  1]\n",
      "Se detecta un agujero de tuerca\n"
     ]
    }
   ],
   "source": [
    "import cv2\n",
    "image_3chan = cv2.imread('images/nut_bolt.png')\n",
    "image_3chan_copy= image_3chan.copy()\n",
    "cv2.imshow('Imagen Original', image_3chan)\n",
    "cv2.waitKey(0)\n",
    "cv2.destroyAllWindows()\n",
    "gray_image = cv2.cvtColor(image_3chan, cv2.COLOR_BGR2GRAY)\n",
    "ret,binary_im = cv2.threshold(gray_image,250,255,cv2.THRESH_BINARY)\n",
    "cv2.imshow('Imagen Binaria', binary_im)\n",
    "cv2.waitKey(0)\n",
    "cv2.destroyAllWindows()\n",
    "\n",
    "contours_list,hierarchy = cv2.findContours(binary_im,cv2.RETR_TREE,cv2.CHAIN_APPROX_SIMPLE)\n",
    "print('Información de jerarquía de todos los contornos:')\n",
    "print (hierarchy)\n",
    "for i in range(0, len(contours_list)):\n",
    "    contour_info= hierarchy[0][i, :]\n",
    "    print('Información de jerarquía del contorno actual:')\n",
    "    print(contour_info)\n",
    "    # no parent, no child\n",
    "    if contour_info[2]==-1 and contour_info[3]==-1:\n",
    "        with_contours = cv2.drawContours(image_3chan_copy, contours_list,i,[0,255,0],thickness=3)\n",
    "        print('Se detecta el contorno del perno')\n",
    "    if contour_info[2]==-1 and contour_info[3]!=-1:\n",
    "        with_contours = cv2.drawContours(with_contours,contours_list,i,[0,0,255],thickness=3)\n",
    "        print('Se detecta un agujero de tuerca')\n",
    "\n",
    "cv2.imshow('Contornos marcados en la imagen RGB', with_contours)\n",
    "cv2.waitKey(0)\n",
    "cv2.destroyAllWindows()"
   ]
  },
  {
   "cell_type": "code",
   "execution_count": null,
   "id": "2a219394",
   "metadata": {},
   "outputs": [],
   "source": [
    "#5"
   ]
  },
  {
   "cell_type": "code",
   "execution_count": 4,
   "id": "82e4442b",
   "metadata": {},
   "outputs": [],
   "source": [
    "import cv2\n",
    "image = cv2.imread('images/basketball.jpg')\n",
    "#--Haga una copia de esta imagen y guárdela en otra variable\n",
    "imageCopy= image.copy()\n",
    "cv2.imshow('imagen BGR', image)\n",
    "cv2.waitKey(0)\n",
    "cv2.destroyAllWindows()\n",
    "#--Convierta la imagen a escala de grises y visualice\n",
    "gray_image = cv2.cvtColor(image,cv2.COLOR_BGR2GRAY)\n",
    "cv2.imshow('gray', gray_image)\n",
    "cv2.waitKey(0)\n",
    "cv2.destroyAllWindows()\n",
    "#--Convierta esta imagen en escala de grises en una imagen binaria utilizando un umbral \n",
    "# tal que toda la región del límite blanco de la red de baloncesto se detecte como una sola mancha:\n",
    "ret,binary_im = cv2.threshold(gray_image,100, 255, cv2.THRESH_BINARY)\n",
    "cv2.imshow('Binario', binary_im)\n",
    "cv2.waitKey(0)\n",
    "cv2.destroyAllWindows()\n",
    "#--Detecta todos los contornos\n",
    "contours,hierarchy = cv2.findContours(binary_im, cv2.RETR_TREE,cv2.CHAIN_APPROX_SIMPLE)\n",
    "#--Dibuje todos los contornos detectados en la imagen y luego muestre la imagen. \n",
    "contours_to_plot= -1\n",
    "plotting_color= (0,255,0) #--verde\n",
    "# si queremos rellenar con color los contornos dibujados\n",
    "thickness= -1\n",
    "with_contours = cv2.drawContours(image,contours, contours_to_plot, plotting_color,thickness)\n",
    "cv2.imshow('Contornos', with_contours)\n",
    "cv2.waitKey(0)\n",
    "cv2.destroyAllWindows()\n",
    "#--A continuación, debemos trazar cuadros delimitadores alrededor de todos los contornos.\n",
    "for cnt in contours:\n",
    "    x,y,w,h = cv2.boundingRect(cnt)\n",
    "    image = cv2.rectangle(image,(x,y),(x+w,y+h), (0,255,255),2)\n",
    "#--mostrar la imagen\n",
    "cv2.imshow('Contornos', image)\n",
    "cv2.waitKey(0)\n",
    "cv2.destroyAllWindows()\n",
    "#--Encuentra el contorno con el área más grande:\n",
    "required_contour = max(contours, key = cv2.contourArea)\n",
    "#--Encuentre las coordenadas x e y iniciales y el ancho y alto \n",
    "# de un cuadro delimitador rectangular que debe encerrar este contorno más grande\n",
    "x,y,w,h = cv2.boundingRect(required_contour)\n",
    "#--Dibuje este cuadro delimitador en una copia de la imagen en color original \n",
    "# que había guardado anteriormente:\n",
    "img_copy2 = cv2.rectangle(imageCopy, (x,y),(x+w, y+h), (0,255,255),2)\n",
    "#--mostrar el resultado\n",
    "cv2.imshow('Contorno más grande', img_copy2)\n",
    "cv2.waitKey(0)\n",
    "cv2.destroyAllWindows()"
   ]
  },
  {
   "cell_type": "code",
   "execution_count": null,
   "id": "35105af0",
   "metadata": {},
   "outputs": [],
   "source": [
    "#6"
   ]
  },
  {
   "cell_type": "code",
   "execution_count": 5,
   "id": "b5812cc4",
   "metadata": {},
   "outputs": [],
   "source": [
    "\n",
    "import cv2\n",
    "image = cv2.imread('images/many fruits.png')\n",
    "cv2.imshow('Imagen original', image)\n",
    "cv2.waitKey(0)\n",
    "cv2.destroyAllWindows()\n",
    "#--convertir a escala de grises\n",
    "gray_image = cv2.cvtColor(image,cv2.COLOR_BGR2GRAY)\n",
    "cv2.imshow('gray', gray_image)\n",
    "cv2.waitKey(0)\n",
    "cv2.destroyAllWindows()\n",
    "#--Convertir a binario con un umbral adecuado\n",
    "ret,binary_im = cv2.threshold(gray_image,245, 255,cv2.THRESH_BINARY)\n",
    "cv2.imshow('binario', binary_im)\n",
    "cv2.waitKey(0)\n",
    "cv2.destroyAllWindows()\n",
    "#--invertir la imagen\n",
    "binary_im= ~binary_im\n",
    "cv2.imshow('binario invertido', binary_im)\n",
    "cv2.waitKey(0)\n",
    "cv2.destroyAllWindows()\n",
    "#--encontrar los contornos externos\n",
    "contours,hierarchy = cv2.findContours(binary_im, cv2.RETR_EXTERNAL,cv2.CHAIN_APPROX_SIMPLE)\n",
    "#--dibujar los contornos\n",
    "with_contours = cv2.drawContours(image,contours, -1,(0,0,255),3)\n",
    "cv2.imshow('contornos marcados en la imagen RGB', with_contours)\n",
    "cv2.waitKey(0)\n",
    "cv2.destroyAllWindows()"
   ]
  },
  {
   "cell_type": "code",
   "execution_count": null,
   "id": "42b77efd",
   "metadata": {},
   "outputs": [],
   "source": []
  }
 ],
 "metadata": {
  "kernelspec": {
   "display_name": "Python 3 (ipykernel)",
   "language": "python",
   "name": "python3"
  },
  "language_info": {
   "codemirror_mode": {
    "name": "ipython",
    "version": 3
   },
   "file_extension": ".py",
   "mimetype": "text/x-python",
   "name": "python",
   "nbconvert_exporter": "python",
   "pygments_lexer": "ipython3",
   "version": "3.9.12"
  }
 },
 "nbformat": 4,
 "nbformat_minor": 5
}
