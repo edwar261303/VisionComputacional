{
 "cells": [
  {
   "cell_type": "code",
   "execution_count": null,
   "id": "653e1414",
   "metadata": {},
   "outputs": [],
   "source": [
    "#1"
   ]
  },
  {
   "cell_type": "code",
   "execution_count": 1,
   "id": "66bd9bc5",
   "metadata": {},
   "outputs": [
    {
     "name": "stderr",
     "output_type": "stream",
     "text": [
      "<>:10: SyntaxWarning: \"is\" with a literal. Did you mean \"==\"?\n",
      "<>:10: SyntaxWarning: \"is\" with a literal. Did you mean \"==\"?\n",
      "<ipython-input-1-7bf0383f9a5d>:10: SyntaxWarning: \"is\" with a literal. Did you mean \"==\"?\n",
      "  if faces is ():\n"
     ]
    }
   ],
   "source": [
    "import cv2\n",
    "import numpy as np\n",
    "face_classifier = cv2.CascadeClassifier('opencv_xml_files/haarcascade_frontalface_alt.xml')\n",
    "resized = cv2.imread(\"images/varias_caras.jpg\")\n",
    "gray = cv2.cvtColor(resized, cv2.COLOR_BGR2GRAY)\n",
    "''' Nuestro clasificador devuelve el ROI de la cara detectada como una tupla, almacena \n",
    "    la coordenada superior izquierda y la coordenada inferior derecha'''\n",
    "faces = face_classifier.detectMultiScale(gray, 1.0485258, 1)\n",
    "'''Cuando no se detectan caras, face_classifier regresa y la tupla vacía'''\n",
    "if faces is ():\n",
    "    print(\"No se han encontrado caras\")\n",
    "'''Iteramos nuestra matriz de caras y dibujamos un rectángulo sobre cada cara en caras'''\n",
    "for (x,y,w,h) in faces:\n",
    "    cv2.rectangle(resized, (x,y), (x+w,y+h), (127,0,255), 2)\n",
    "    cv2.imshow('Face Detection', resized)\n",
    "    \n",
    "cv2.waitKey(0)    \n",
    "cv2.destroyAllWindows()"
   ]
  },
  {
   "cell_type": "code",
   "execution_count": null,
   "id": "86cf4888",
   "metadata": {},
   "outputs": [],
   "source": [
    "#2"
   ]
  },
  {
   "cell_type": "code",
   "execution_count": 2,
   "id": "afc9d90b",
   "metadata": {},
   "outputs": [],
   "source": [
    "\n",
    "import cv2\n",
    "import numpy as np\n",
    "\n",
    "inputImagePath = \"images/face.jpg\"\n",
    "haarCascadePath = \"opencv_xml_files/haarcascade_frontalface_default.xml\"\n",
    "inputImage = cv2.imread(inputImagePath, cv2.COLOR_BGR2RGB)\n",
    "grayInputImage = cv2.cvtColor(inputImage, cv2.COLOR_BGR2GRAY)\n",
    "haarCascade = cv2.CascadeClassifier(haarCascadePath)\n",
    "detectedFaces = haarCascade.detectMultiScale(grayInputImage, 1.1, 1)\n",
    "for face in detectedFaces:\n",
    "    # Cada cara es un rectángulo que representa \n",
    "    # el cuadro delimitador alrededor de la cara detectada\n",
    "    x, y, w, h = face\n",
    "    cv2.rectangle(inputImage, (x, y), (x+w, y+h), (0, 0, 255), 3)\n",
    "\n",
    "cv2.imshow(\"Faces Detected\", inputImage)\n",
    "cv2.waitKey(0)\n",
    "cv2.destroyAllWindows()"
   ]
  },
  {
   "cell_type": "code",
   "execution_count": null,
   "id": "14c1d351",
   "metadata": {},
   "outputs": [],
   "source": [
    "#3"
   ]
  },
  {
   "cell_type": "code",
   "execution_count": null,
   "id": "7ad6492b",
   "metadata": {},
   "outputs": [],
   "source": [
    "import numpy as np\n",
    "import cv2\n",
    "f_cascade = cv2.CascadeClassifier(\"xml/face.xml\")\n",
    "e_cascade = cv2.CascadeClassifier(\"xml/eye.xml\")\n",
    "image = cv2.imread(\"images/actor.jpg\")\n",
    "gray = cv2.cvtColor(image, cv2.COLOR_BGR2GRAY)\n",
    "faces = f_cascade.detectMultiScale(gray, 1.3, 5)\n",
    "for (x,y,w,h) in faces:\n",
    "    img = cv2.rectangle(image,(x,y),(x+w,y+h),(255,0,0),2)\n",
    "    roi_gray = gray[y:y+h, x:x+w]\n",
    "    roi_color = img[y:y+h, x:x+w]\n",
    "    eyes = e_cascade.detectMultiScale(roi_gray)\n",
    "    for (ex,ey,ew,eh) in eyes:\n",
    "        cv2.rectangle(roi_color,(ex,ey),(ex+ew,ey+eh),(0,255,0),2)\n",
    "cv2.imshow('img',image)\n",
    "cv2.waitKey(0)\n",
    "cv2.destroyAllWindows()"
   ]
  },
  {
   "cell_type": "code",
   "execution_count": null,
   "id": "0739930f",
   "metadata": {},
   "outputs": [],
   "source": [
    "#4"
   ]
  },
  {
   "cell_type": "code",
   "execution_count": 2,
   "id": "d5c02613",
   "metadata": {},
   "outputs": [
    {
     "ename": "error",
     "evalue": "OpenCV(4.0.1) C:\\ci\\opencv-suite_1573470242804\\work\\modules\\imgproc\\src\\color.cpp:181: error: (-215:Assertion failed) !_src.empty() in function 'cv::cvtColor'\n",
     "output_type": "error",
     "traceback": [
      "\u001b[1;31m---------------------------------------------------------------------------\u001b[0m",
      "\u001b[1;31merror\u001b[0m                                     Traceback (most recent call last)",
      "\u001b[1;32m<ipython-input-2-431f580b61da>\u001b[0m in \u001b[0;36m<module>\u001b[1;34m\u001b[0m\n\u001b[0;32m     18\u001b[0m     \u001b[1;32mif\u001b[0m \u001b[0mcount\u001b[0m \u001b[1;33m%\u001b[0m \u001b[1;36m20\u001b[0m\u001b[1;33m==\u001b[0m\u001b[1;36m0\u001b[0m\u001b[1;33m:\u001b[0m\u001b[1;33m\u001b[0m\u001b[1;33m\u001b[0m\u001b[0m\n\u001b[0;32m     19\u001b[0m         \u001b[0mret\u001b[0m\u001b[1;33m,\u001b[0m \u001b[0mframe\u001b[0m \u001b[1;33m=\u001b[0m \u001b[0mcap\u001b[0m\u001b[1;33m.\u001b[0m\u001b[0mread\u001b[0m\u001b[1;33m(\u001b[0m\u001b[1;33m)\u001b[0m\u001b[1;33m\u001b[0m\u001b[1;33m\u001b[0m\u001b[0m\n\u001b[1;32m---> 20\u001b[1;33m         \u001b[0mgray\u001b[0m \u001b[1;33m=\u001b[0m \u001b[0mcv2\u001b[0m\u001b[1;33m.\u001b[0m\u001b[0mcvtColor\u001b[0m\u001b[1;33m(\u001b[0m\u001b[0mframe\u001b[0m\u001b[1;33m,\u001b[0m \u001b[0mcv2\u001b[0m\u001b[1;33m.\u001b[0m\u001b[0mCOLOR_BGR2GRAY\u001b[0m\u001b[1;33m)\u001b[0m\u001b[1;33m\u001b[0m\u001b[1;33m\u001b[0m\u001b[0m\n\u001b[0m\u001b[0;32m     21\u001b[0m         \u001b[0mcar\u001b[0m\u001b[1;33m=\u001b[0m\u001b[0mcar_classifier\u001b[0m\u001b[1;33m.\u001b[0m\u001b[0mdetectMultiScale\u001b[0m\u001b[1;33m(\u001b[0m\u001b[0mgray\u001b[0m\u001b[1;33m,\u001b[0m\u001b[1;36m1.1\u001b[0m\u001b[1;33m,\u001b[0m \u001b[1;36m3\u001b[0m\u001b[1;33m)\u001b[0m\u001b[1;33m\u001b[0m\u001b[1;33m\u001b[0m\u001b[0m\n\u001b[0;32m     22\u001b[0m         \u001b[1;32mfor\u001b[0m \u001b[1;33m(\u001b[0m\u001b[0mx\u001b[0m\u001b[1;33m,\u001b[0m\u001b[0my\u001b[0m\u001b[1;33m,\u001b[0m\u001b[0mw\u001b[0m\u001b[1;33m,\u001b[0m\u001b[0mh\u001b[0m\u001b[1;33m)\u001b[0m \u001b[1;32min\u001b[0m \u001b[0mcar\u001b[0m\u001b[1;33m:\u001b[0m\u001b[1;33m\u001b[0m\u001b[1;33m\u001b[0m\u001b[0m\n",
      "\u001b[1;31merror\u001b[0m: OpenCV(4.0.1) C:\\ci\\opencv-suite_1573470242804\\work\\modules\\imgproc\\src\\color.cpp:181: error: (-215:Assertion failed) !_src.empty() in function 'cv::cvtColor'\n"
     ]
    }
   ],
   "source": [
    "\n",
    "import cv2\n",
    "#--Especifique la ruta de los archivos XML OpenCV que se \n",
    "# utilizarán para detectar personas y automóviles en cada imagen.\n",
    "haarcascade_car = 'opencv_xml_files/haarcascade_car.xml'\n",
    "haarcascade_fullbody = 'opencv_xml_files/haarcascade_fullbody.xml'\n",
    "#--cargue el archivo XML que se utilizará para detectar automóviles.\n",
    "car_classifier = cv2.CascadeClassifier(haarcascade_car)\n",
    "#--para detectar peatones use el archivo\n",
    "#'opencv_xml_files/haarcascade_fullbody.xml'\n",
    "#classifier = cv2.CascadeClassifier(haarcascade_fullbody)\n",
    "cap = cv2.VideoCapture('videos/cars.avi')\n",
    "#--para detectar peatones\n",
    "#cap = cv2.VideoCapture('walking.avi')\n",
    "count = 0\n",
    "while cap.isOpened():\n",
    "    count +=1\n",
    "    # here 20 means every 20th frame.\n",
    "    if count % 20==0:\n",
    "        ret, frame = cap.read()\n",
    "        gray = cv2.cvtColor(frame, cv2.COLOR_BGR2GRAY)\n",
    "        car=car_classifier.detectMultiScale(gray,1.1, 3)\n",
    "        for (x,y,w,h) in car:\n",
    "            cv2.rectangle(frame, (x, y), (x+w, y+h), (0, 255, 0), 2)\n",
    "            cv2.putText(frame, 'car', (x, y-10), cv2.FONT_HERSHEY_SIMPLEX, 0.4, (0, 0, 255))\n",
    "        cv2.imshow('car', frame)\n",
    "    #--para peatones\n",
    "    #cv2.imshow('person', frame)\n",
    "    #--presione 'q' para cerrar la ventana\n",
    "    if cv2.waitKey(1) & 0xFF == ord('q'):\n",
    "        break\n",
    "cap.release()\n",
    "cv2.waitKey(0)\n",
    "cv2.destroyAllWindows()"
   ]
  },
  {
   "cell_type": "code",
   "execution_count": null,
   "id": "4565c10e",
   "metadata": {},
   "outputs": [],
   "source": []
  }
 ],
 "metadata": {
  "kernelspec": {
   "display_name": "Python 3",
   "language": "python",
   "name": "python3"
  },
  "language_info": {
   "codemirror_mode": {
    "name": "ipython",
    "version": 3
   },
   "file_extension": ".py",
   "mimetype": "text/x-python",
   "name": "python",
   "nbconvert_exporter": "python",
   "pygments_lexer": "ipython3",
   "version": "3.8.8"
  }
 },
 "nbformat": 4,
 "nbformat_minor": 5
}
