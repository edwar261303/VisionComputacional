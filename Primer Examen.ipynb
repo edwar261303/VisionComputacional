{
 "cells": [
  {
   "cell_type": "code",
   "execution_count": null,
   "id": "2633e69e",
   "metadata": {},
   "outputs": [],
   "source": [
    "# 1. Eliminar las líneas más delgadas de la figura (a) y obtener la figura (b) aplicando\n",
    "#filtrado. Indicar qué tipo de filtro ha utilizado.\n",
    "#Fig1_a.jpg"
   ]
  },
  {
   "cell_type": "code",
   "execution_count": 12,
   "id": "05a5492d",
   "metadata": {},
   "outputs": [],
   "source": [
    "import cv2 as cv\n",
    "#leyendo la imagen cuyo ruido se eliminará usando la función imread()\n",
    "imageread = cv.imread('images/Fig1_a.jpg')\n",
    "#usando la función medianBlur() para eliminar el ruido de la imagen dada\n",
    "imagenormal = cv.medianBlur(imageread, 3)\n",
    "#mostrando la imagen sin ruido como la salida en la pantalla\n",
    "cv.imshow('original:', imageread)\n",
    "cv.imshow('imagen con ruido disminuido',imagenormal)\n",
    "cv.waitKey(0)\n",
    "cv.destroyAllWindows()\n",
    "#Se utiliza un suavizada utilizando la mediana de los pixeles\n",
    "#medianBlur"
   ]
  },
  {
   "cell_type": "code",
   "execution_count": 7,
   "id": "7d63e8d0",
   "metadata": {},
   "outputs": [],
   "source": [
    "# 2.\n",
    "fig1.png"
   ]
  },
  {
   "cell_type": "code",
   "execution_count": 26,
   "id": "26aea9bb",
   "metadata": {},
   "outputs": [],
   "source": [
    "import cv2\n",
    "import numpy as np\n",
    "import matplotlib.pyplot as plt\n",
    "#--leer la imagen\n",
    "img= cv2.imread('images/fig1.png', 0)\n",
    "cv2.imshow('Imagen original', img)\n",
    "\n",
    "#--aplicando la ecualización\n",
    "histequ = cv2.equalizeHist(img)\n",
    "#--muestra la imagen ecualizada\n",
    "cv2.imshow('Imagen ecualizada', histequ)\n",
    "\n",
    "cv2.waitKey(0)\n",
    "cv2.destroyAllWindows()"
   ]
  },
  {
   "cell_type": "code",
   "execution_count": 14,
   "id": "d0cc8e90",
   "metadata": {},
   "outputs": [],
   "source": [
    "#3.\n",
    "#Se escala por un factor de 2 con el método de interpolación del vecino más cercano.\n",
    "#Escriba un programa Python para realizar lo indicado y muestre la matriz final"
   ]
  },
  {
   "cell_type": "code",
   "execution_count": 24,
   "id": "1cd7f8f5",
   "metadata": {},
   "outputs": [
    {
     "name": "stdout",
     "output_type": "stream",
     "text": [
      "3 3\n",
      "Matriz original: \n",
      "[[0 1 2]\n",
      " [3 4 5]\n",
      " [6 7 8]]\n",
      "Matriz Escalada: \n",
      "[[0 0 1 1 2 2]\n",
      " [0 0 1 1 2 2]\n",
      " [3 3 4 4 5 5]\n",
      " [3 3 4 4 5 5]\n",
      " [6 6 7 7 8 8]\n",
      " [6 6 7 7 8 8]]\n"
     ]
    }
   ],
   "source": [
    "import cv2\n",
    "import numpy as np\n",
    "#--leer imagen\n",
    "image = np.array([\n",
    "    [0,1,2],\n",
    "    [3,4,5],\n",
    "    [6,7,8]\n",
    "])\n",
    "#--obtener dimensiones\n",
    "ancho = image.shape[1] #columnas\n",
    "alto = image.shape[0] # filas\n",
    "print(alto,ancho)\n",
    "#--escalando la imagen \n",
    "imageOut = cv2.resize(image,(2*ancho,2*alto), interpolation=cv2.INTER_NEAREST)\n",
    "#--mostrar las imágenes\n",
    "print(\"Matriz original: \")\n",
    "print(image)\n",
    "print(\"Matriz Escalada: \")\n",
    "print(imageOut)"
   ]
  },
  {
   "cell_type": "code",
   "execution_count": null,
   "id": "863d2da8",
   "metadata": {},
   "outputs": [],
   "source": []
  }
 ],
 "metadata": {
  "kernelspec": {
   "display_name": "Python 3 (ipykernel)",
   "language": "python",
   "name": "python3"
  },
  "language_info": {
   "codemirror_mode": {
    "name": "ipython",
    "version": 3
   },
   "file_extension": ".py",
   "mimetype": "text/x-python",
   "name": "python",
   "nbconvert_exporter": "python",
   "pygments_lexer": "ipython3",
   "version": "3.9.12"
  }
 },
 "nbformat": 4,
 "nbformat_minor": 5
}
