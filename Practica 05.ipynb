{
 "cells": [
  {
   "cell_type": "code",
   "execution_count": null,
   "id": "a6639503",
   "metadata": {},
   "outputs": [],
   "source": [
    "#Ejercicio 51 Traslacion"
   ]
  },
  {
   "cell_type": "code",
   "execution_count": 3,
   "id": "107adb81",
   "metadata": {},
   "outputs": [],
   "source": [
    "import cv2\n",
    "import numpy as np\n",
    "#--leer la imagen \n",
    "img = cv2.imread('images/ave.jpg',0)\n",
    "#--obtenemos ancho y alto de la imagen\n",
    "rows,cols = img.shape\n",
    "#--desplazamiento\n",
    "tx = 210\n",
    "ty = 150\n",
    "#--crea la matriz de traslación\n",
    "M = np.float32([[1,0,tx],\n",
    "                [0,1,ty]])\n",
    "#--realiza la traslación\n",
    "dst = cv2.warpAffine(img,M,(cols,rows))\n",
    "#--muestra la imagen\n",
    "cv2.imshow('ave', img)\n",
    "cv2.imshow('traslación',dst)\n",
    "cv2.waitKey(0)\n",
    "cv2.destroyAllWindows()"
   ]
  },
  {
   "cell_type": "code",
   "execution_count": 4,
   "id": "9647aba6",
   "metadata": {},
   "outputs": [],
   "source": [
    "#Ejercicio 52 Rotacion"
   ]
  },
  {
   "cell_type": "code",
   "execution_count": 1,
   "id": "d3ceafe0",
   "metadata": {},
   "outputs": [],
   "source": [
    "import cv2\n",
    "import numpy as np\n",
    "#--leer imagen\n",
    "image = cv2.imread('images/ave.jpg')\n",
    "#--obtener dimensiones de la imagen\n",
    "ancho = image.shape[1] #columnas\n",
    "alto = image.shape[0] # filas\n",
    "#--define la matriz de rotación\n",
    "M = cv2.getRotationMatrix2D((ancho//3,alto//3),45,1)\n",
    "#--ejecuta la rotación\n",
    "imageOut = cv2.warpAffine(image,M,(ancho,alto))\n",
    "#--muestra las imágenes\n",
    "cv2.imshow('Imagen de entrada',image)\n",
    "cv2.imshow('Imagen de salida',imageOut)\n",
    "cv2.waitKey(0)\n",
    "cv2.destroyAllWindows()\n"
   ]
  },
  {
   "cell_type": "code",
   "execution_count": 10,
   "id": "27f95f59",
   "metadata": {},
   "outputs": [],
   "source": [
    "#Ejercicio 53 Escalado"
   ]
  },
  {
   "cell_type": "code",
   "execution_count": 13,
   "id": "61b08471",
   "metadata": {},
   "outputs": [
    {
     "name": "stdout",
     "output_type": "stream",
     "text": [
      "426 640\n"
     ]
    }
   ],
   "source": [
    "import cv2\n",
    "#--leer imagen\n",
    "image = cv2.imread('images/ave.jpg')\n",
    "#--obtener dimensiones\n",
    "ancho = image.shape[1] #columnas\n",
    "alto = image.shape[0] # filas\n",
    "print(alto,ancho)\n",
    "#--escalando la imagen \n",
    "imageOut = cv2.resize(image,(600,300), interpolation=cv2.INTER_CUBIC)\n",
    "#--mostrar las imágenes\n",
    "cv2.imshow('Imagen de entrada',image)\n",
    "cv2.imshow('Imagen de salida',imageOut)\n",
    "cv2.waitKey(0)\n",
    "cv2.destroyAllWindows()"
   ]
  },
  {
   "cell_type": "code",
   "execution_count": 14,
   "id": "ce7312e5",
   "metadata": {},
   "outputs": [],
   "source": [
    "#Ejercicio 54 Recorte"
   ]
  },
  {
   "cell_type": "code",
   "execution_count": 18,
   "id": "cb14efcf",
   "metadata": {},
   "outputs": [],
   "source": [
    "import cv2\n",
    "#--leer la imagen\n",
    "image = cv2.imread('images/ave.jpg')\n",
    "#--recortar una imagen\n",
    "imageOut = image[60:220,280:480]\n",
    "#--mostra las imágenes\n",
    "cv2.imshow('Imagen de entrada',image)\n",
    "cv2.imshow('Imagen de salida',imageOut)\n",
    "cv2.waitKey(0)\n",
    "cv2.destroyAllWindows()"
   ]
  },
  {
   "cell_type": "code",
   "execution_count": 20,
   "id": "c11d0bf0",
   "metadata": {},
   "outputs": [],
   "source": [
    "#Ejercicio 55 Inclinacion"
   ]
  },
  {
   "cell_type": "code",
   "execution_count": 2,
   "id": "0f61084e",
   "metadata": {},
   "outputs": [
    {
     "name": "stdout",
     "output_type": "stream",
     "text": [
      "512 512\n"
     ]
    }
   ],
   "source": [
    "import cv2\n",
    "import numpy as np\n",
    "import math\n",
    "#--leer la imagen\n",
    "src = cv2.imread('images/lena.jpg')\n",
    "#--obtener dimensiones\n",
    "rows, cols = src.shape[:2]\n",
    "print(rows, cols)\n",
    "#--obtener las tangentes en ambos ejes\n",
    "ix = math.tan(20 * math.pi / 180)\n",
    "iy = math.tan(15 * math.pi / 180)\n",
    "#--obtener la matriz de transformación\n",
    "M = np.float32([[1, ix, 0], [iy, 1, 0]])\n",
    "#--ejecutar la trasnformación\n",
    "dst = cv2.warpAffine(src, M, (cols + 256, rows + 256))\n",
    "#--mostrar las imágenes\n",
    "cv2.imshow('lena.jpg', src)\n",
    "cv2.imshow('Inclinar', dst)\n",
    "cv2.waitKey()\n",
    "cv2.destroyAllWindows()"
   ]
  },
  {
   "cell_type": "code",
   "execution_count": null,
   "id": "81df9771",
   "metadata": {},
   "outputs": [],
   "source": [
    "#Ejercicio 56 Transformacion a fin"
   ]
  },
  {
   "cell_type": "code",
   "execution_count": 27,
   "id": "9cbcdf77",
   "metadata": {},
   "outputs": [
    {
     "data": {
      "image/png": "[encoded data removed]",
      "text/plain": [
       "<Figure size 432x288 with 2 Axes>"
      ]
     },
     "metadata": {
      "needs_background": "light"
     },
     "output_type": "display_data"
    }
   ],
   "source": [
    "import numpy as np\n",
    "import matplotlib.pyplot as plt #carga la librería para graficar\n",
    "import cv2\n",
    "#--leer la imagen\n",
    "img = cv2.imread('images/cuadricula.jpg')\n",
    "#--obtener dimensiones\n",
    "rows,cols,ch = img.shape\n",
    "\n",
    "#--definir 3 puntos de la imagen original\n",
    "pts1 = np.float32([[100,400],[400,100],[100,100]])\n",
    "#--definir 3 puntos en la imagen de salida\n",
    "pts2 = np.float32([[50,300],[400,200],[80,150]])\n",
    "\n",
    "#--obtener la matriz de transformación \n",
    "M = cv2.getAffineTransform(pts1,pts2)\n",
    "#--aplicar la transofrmación\n",
    "dst = cv2.warpAffine(img,M,(cols,rows))\n",
    "#--mostrar las imágenes\n",
    "plt.subplot(121),plt.imshow(img),plt.title('Input')\n",
    "plt.subplot(122),plt.imshow(dst),plt.title('Output')\n",
    "plt.show()"
   ]
  },
  {
   "cell_type": "code",
   "execution_count": null,
   "id": "a5798040",
   "metadata": {},
   "outputs": [],
   "source": [
    "#Ejercicio 57 Transformacion de perspectiva"
   ]
  },
  {
   "cell_type": "code",
   "execution_count": 31,
   "id": "f4874af8",
   "metadata": {},
   "outputs": [],
   "source": [
    "import math\n",
    "import numpy as np\n",
    "import cv2\n",
    "#--leer la imagen\n",
    "src = cv2.imread('images/left.jpg')\n",
    "#--obtener dimensiones\n",
    "rows, cols = src.shape[:2]\n",
    "\n",
    "#--definir los 4 puntos en la imagen original\n",
    "pts1 = np.float32([[113, 137], [256, 136], [270, 337], [140, 377]])\n",
    "#--definir los 4 puntos en la imagen de salida\n",
    "pts2 = np.float32([[0, 0], [165, 0], [165, 223], [0, 223]])\n",
    "\n",
    "#--obtener la matriz de transformación\n",
    "M = cv2.getPerspectiveTransform(pts1, pts2)\n",
    "\n",
    "#--ejecutar la transformación\n",
    "dst = cv2.warpPerspective(src, M, (165, 223))\n",
    "#--mostrar las imágenes\n",
    "cv2.imshow('Imagen con perspectiva', src)\n",
    "cv2.imshow('Transform.', dst)\n",
    "cv2.waitKey()\n",
    "cv2.destroyAllWindows()"
   ]
  },
  {
   "cell_type": "code",
   "execution_count": null,
   "id": "08fcee97",
   "metadata": {},
   "outputs": [],
   "source": [
    "#Ejercicio 58 Transformacion de perspectiva con puntos del mouse"
   ]
  },
  {
   "cell_type": "code",
   "execution_count": 4,
   "id": "667f2880",
   "metadata": {},
   "outputs": [
    {
     "data": {
      "text/plain": [
       "[[26, 65], [255, 6], [25, 141], [250, 65]]"
      ]
     },
     "execution_count": 4,
     "metadata": {},
     "output_type": "execute_result"
    }
   ],
   "source": [
    "import cv2\n",
    "import numpy as np\n",
    "\n",
    "def clics(event,x,y,flags,param):\n",
    "\tglobal puntos\n",
    "\tif event == cv2.EVENT_LBUTTONDOWN:\n",
    "\t\tcv2.circle(imagen,(x,y),5,(0,255,0),2)\n",
    "\t\tpuntos.append([x,y])\n",
    "\n",
    "def uniendo4puntos(puntos):\n",
    "\tcv2.line(imagen,tuple(puntos[0]),tuple(puntos[1]),(255,0,0),1)\n",
    "\tcv2.line(imagen,tuple(puntos[0]),tuple(puntos[2]),(255,0,0),1)\n",
    "\tcv2.line(imagen,tuple(puntos[2]),tuple(puntos[3]),(255,0,0),1)\n",
    "\tcv2.line(imagen,tuple(puntos[1]),tuple(puntos[3]),(255,0,0),1)\n",
    "\n",
    "puntos = []\n",
    "imagen = cv2.imread('images/licenseplate1.jpg')\n",
    "aux = imagen.copy()\n",
    "cv2.namedWindow('Imagen')\n",
    "cv2.setMouseCallback('Imagen',clics)\n",
    "\n",
    "while True:\n",
    "\n",
    "\tif len(puntos) == 4:\n",
    "\t\tuniendo4puntos(puntos)\n",
    "\t\tpts1 = np.float32([puntos])\n",
    "\t\tpts2 = np.float32([[0,0], [480,0], [0,300], [480,300]])\n",
    "\n",
    "\t\tM = cv2.getPerspectiveTransform(pts1,pts2)\n",
    "\t\tdst = cv2.warpPerspective(imagen, M, (480,300))\n",
    "\n",
    "\t\tcv2.imshow('dst', dst)\n",
    "\tcv2.imshow('Imagen',imagen)\n",
    "\t\n",
    "\tk = cv2.waitKey(1) & 0xFF\n",
    "\tif k == ord('n'):\n",
    "\t\timagen = aux.copy()\n",
    "\t\tpuntos = []\n",
    "\t\t\n",
    "\telif k == 27:\n",
    "\t\tbreak\n",
    "        \n",
    "cv2.destroyAllWindows()\n",
    "puntos"
   ]
  },
  {
   "cell_type": "code",
   "execution_count": 19,
   "id": "905867b1",
   "metadata": {},
   "outputs": [],
   "source": [
    "#Tarea\n",
    "'''\n",
    "Investigar la librería imutils para realizar transformaciones geométricas ilustrando con\n",
    "ejemplos la utilización de esta librería.\n",
    "'''"
   ]
  },
  {
   "cell_type": "code",
   "execution_count": null,
   "id": "b4e77c66",
   "metadata": {},
   "outputs": [],
   "source": []
  }
 ],
 "metadata": {
  "kernelspec": {
   "display_name": "Python 3",
   "language": "python",
   "name": "python3"
  },
  "language_info": {
   "codemirror_mode": {
    "name": "ipython",
    "version": 3
   },
   "file_extension": ".py",
   "mimetype": "text/x-python",
   "name": "python",
   "nbconvert_exporter": "python",
   "pygments_lexer": "ipython3",
   "version": "3.8.8"
  }
 },
 "nbformat": 4,
 "nbformat_minor": 5
}
