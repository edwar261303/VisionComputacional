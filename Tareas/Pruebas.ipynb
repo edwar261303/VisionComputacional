{
 "cells": [
  {
   "cell_type": "code",
   "execution_count": 3,
   "id": "03fae812",
   "metadata": {},
   "outputs": [
    {
     "data": {
      "image/png": "[encoded data removed]",
      "text/plain": [
       "<Figure size 432x288 with 1 Axes>"
      ]
     },
     "metadata": {
      "needs_background": "light"
     },
     "output_type": "display_data"
    }
   ],
   "source": [
    "#Tarea N° 6\n",
    "#Alumno: Aucapiña Suvizarreta Edwar\n",
    "#Codigo: 113572\n",
    "\n",
    "import cv2\n",
    "import numpy as np\n",
    "import matplotlib.pyplot as plt\n",
    "img1 = cv2.imread(\"../images/board11.jpg\")\n",
    "img2 = cv2.imread(\"../images/board22.jpg\")\n",
    "\n",
    "# Convertimos las imagenes a escala de grises\n",
    "img1 = cv2.cvtColor(img1, cv2.COLOR_BGR2GRAY)\n",
    "img2 = cv2.cvtColor(img2, cv2.COLOR_BGR2GRAY)\n",
    "\n",
    "# umbral global\n",
    "ret1,th1 = cv2.threshold(img1, 200, 255, cv2.THRESH_BINARY)\n",
    "ret2,th2 = cv2.threshold(img2, 200, 255, cv2.THRESH_BINARY)\n",
    "\n",
    "# Se usa la funcion xor entre las 2 matrices\n",
    "xor1 = cv2.bitwise_xor(th1,th2)\n",
    "xor2 = cv2.bitwise_xor(img1,img2)\n",
    "\n",
    "plt.subplot(2,3,1),plt.imshow(xor1,'gray')\n",
    "plt.title(\"binarizado_xor\")\n",
    "#plt.subplot(2,3,3),plt.imshow(xor2,'gray')\n",
    "#plt.title(\"sin binarizar\")\n",
    "\n",
    "plt.show()"
   ]
  },
  {
   "cell_type": "code",
   "execution_count": null,
   "id": "ec91f4d3",
   "metadata": {},
   "outputs": [],
   "source": []
  }
 ],
 "metadata": {
  "kernelspec": {
   "display_name": "Python 3",
   "language": "python",
   "name": "python3"
  },
  "language_info": {
   "codemirror_mode": {
    "name": "ipython",
    "version": 3
   },
   "file_extension": ".py",
   "mimetype": "text/x-python",
   "name": "python",
   "nbconvert_exporter": "python",
   "pygments_lexer": "ipython3",
   "version": "3.8.8"
  }
 },
 "nbformat": 4,
 "nbformat_minor": 5
}
