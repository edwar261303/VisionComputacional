{
 "cells": [
  {
   "cell_type": "code",
   "execution_count": null,
   "id": "75acc4a8",
   "metadata": {},
   "outputs": [],
   "source": [
    "#1"
   ]
  },
  {
   "cell_type": "code",
   "execution_count": 3,
   "id": "8fcc03ed",
   "metadata": {},
   "outputs": [],
   "source": [
    "import matplotlib.pyplot as plt\n",
    "import numpy as np\n",
    "import cv2\n",
    "\n",
    "# Leer la imagen\n",
    "image = cv2.imread('images/waffle.png')\n",
    "cv2.imshow('original', image)\n",
    "# Hacer una copia de la imagen\n",
    "image_copy = np.copy(image)\n",
    "\n",
    "# Cambiar al RGB\n",
    "image_copy = cv2.cvtColor(image_copy, cv2.COLOR_BGR2RGB)\n",
    "\n",
    "cv2.imshow('RGB',image_copy)\n",
    "\n",
    "# Convertir a escala de crises\n",
    "gray = cv2.cvtColor(image_copy, cv2.COLOR_RGB2GRAY)\n",
    "gray = np.float32(gray)\n",
    "\n",
    "# Detectar esquinas \n",
    "dst = cv2.cornerHarris(gray, 2, 3, 0.04)\n",
    "\n",
    "# Dilatar la imagen de las esquinas para mejorar los puntos de las esquinas\n",
    "dst = cv2.dilate(dst,None)\n",
    "\n",
    "cv2.imshow('imagen dilatada',dst)\n",
    "# Este valor varía según la imagen y la cantidad de esquinas que desee detectar.\n",
    "# Intente cambiar este parámetro libremente, 0.1, para que sea más grande o más pequeño y vea qué sucede\n",
    "thresh = 0.1*dst.max()\n",
    "\n",
    "# Crea una copia de la imagen para dibujar esquinas\n",
    "corner_image = np.copy(image_copy)\n",
    "\n",
    "# Iterar por todas las esquinas y dibujarlas en la imagen (si pasan el umbral)\n",
    "for j in range(0, dst.shape[0]):\n",
    "    for i in range(0, dst.shape[1]):\n",
    "        if(dst[j,i] > thresh):\n",
    "            # image, center pt, radius, color, thickness\n",
    "            cv2.circle( corner_image, (i, j), 1, (0,255,0), 1)\n",
    "\n",
    "cv2.imshow('esquinas',corner_image)\n",
    "cv2.waitKey(0)\n",
    "cv2.destroyAllWindows()"
   ]
  },
  {
   "cell_type": "code",
   "execution_count": 2,
   "id": "3ebea18b",
   "metadata": {},
   "outputs": [],
   "source": [
    "#2"
   ]
  },
  {
   "cell_type": "code",
   "execution_count": 5,
   "id": "53e17ac8",
   "metadata": {},
   "outputs": [],
   "source": [
    "import cv2\n",
    "import numpy as np\n",
    "\n",
    "img = cv2.imread('images/waffle.png')\n",
    "gray = cv2.cvtColor(img, cv2.COLOR_BGR2GRAY)\n",
    "\n",
    "gray = np.float32(gray)\n",
    "dst = cv2.cornerHarris(gray, 2, 3, 0.04)\n",
    " \n",
    "height, width = dst.shape\n",
    "color = (0, 255, 0)\n",
    "\n",
    "for y in range(0, height):\n",
    "    for x in range(0, width):\n",
    "        if dst.item(y, x) > 0.01 * dst.max():\n",
    "            cv2.circle(img, (x, y), 3, color, cv2.FILLED, cv2.LINE_AA)\n",
    "\n",
    "cv2.imshow('Harris Result', dst)\n",
    "cv2.imshow('Harris Corner', img)\n",
    "cv2.waitKey(0)\n",
    "cv2.destroyAllWindows()"
   ]
  },
  {
   "cell_type": "code",
   "execution_count": null,
   "id": "d2773d93",
   "metadata": {},
   "outputs": [],
   "source": [
    "#3"
   ]
  },
  {
   "cell_type": "code",
   "execution_count": 10,
   "id": "8d76094b",
   "metadata": {},
   "outputs": [],
   "source": [
    "import numpy as np\n",
    "import cv2 as cv\n",
    "filename = 'images/board.png'\n",
    "img = cv.imread(filename)\n",
    "gray = cv.cvtColor(img,cv.COLOR_BGR2GRAY)\n",
    "gray = np.float32(gray)\n",
    "dst = cv.cornerHarris(gray,2,3,0.04)\n",
    "#result se usa para marcar esquinas, no es importante\n",
    "dst = cv.dilate(dst,None)\n",
    " # Umbral del mejor valor, puede variar de una imagen a otra.\n",
    "img[dst>0.01*dst.max()]=[0,0,255]\n",
    "cv.imshow('dst',img)\n",
    "#if cv.waitKey(0) & 0xff == 27:\n",
    "#    cv.destroyAllWindows()\n",
    "cv.waitKey(0)\n",
    "cv.destroyAllWindows()    "
   ]
  },
  {
   "cell_type": "code",
   "execution_count": null,
   "id": "767f6481",
   "metadata": {},
   "outputs": [],
   "source": [
    "#4"
   ]
  },
  {
   "cell_type": "code",
   "execution_count": 14,
   "id": "c9de99fd",
   "metadata": {},
   "outputs": [],
   "source": [
    "import numpy as np\n",
    "import cv2\n",
    "\n",
    "img = cv2.imread('images/board.png')\n",
    "gray = cv2.cvtColor(img,cv2.COLOR_BGR2GRAY)\n",
    "#algoritmo de shitomashi\n",
    "corners = cv2.goodFeaturesToTrack(gray, 1000, 0.01, 10)\n",
    "corners = np.int0(corners)\n",
    "   \n",
    "for i in corners:\n",
    "    x,y = i.ravel()\n",
    "    cv2.circle(img, (x,y), 3, 255, -1)\n",
    "   \n",
    "cv2.imshow('corner', img)\n",
    "cv2.waitKey(0)\n",
    "cv2.destroyAllWindows()   "
   ]
  },
  {
   "cell_type": "code",
   "execution_count": null,
   "id": "8b28fe28",
   "metadata": {},
   "outputs": [],
   "source": [
    "#5"
   ]
  },
  {
   "cell_type": "code",
   "execution_count": 15,
   "id": "c818cfd5",
   "metadata": {},
   "outputs": [
    {
     "data": {
      "image/png": "[encoded data removed]",
      "text/plain": [
       "<Figure size 432x288 with 1 Axes>"
      ]
     },
     "metadata": {
      "needs_background": "light"
     },
     "output_type": "display_data"
    }
   ],
   "source": [
    "import numpy as np\n",
    "import cv2\n",
    "from matplotlib import pyplot as plt\n",
    " \n",
    "img = cv2.imread('images/board.png')\n",
    "gray = cv2.cvtColor(img, cv2.COLOR_BGR2GRAY)\n",
    "corners = cv2.goodFeaturesToTrack(gray, 25, 0.05, 10)\n",
    " \n",
    "# El resultado devuelto es una matriz de [[311., 250.]] dos niveles de paréntesis.\n",
    "corners = np.int0(corners)\n",
    " \n",
    "for i in corners:\n",
    "    x, y = i.ravel()\n",
    "    cv2.circle(img, (x, y), 3, 255, -1)\n",
    " \n",
    "plt.imshow(img), plt.title('Destino'), plt.axis('off')\n",
    "plt.show()"
   ]
  },
  {
   "cell_type": "code",
   "execution_count": null,
   "id": "b7b58080",
   "metadata": {},
   "outputs": [],
   "source": [
    "#6"
   ]
  },
  {
   "cell_type": "code",
   "execution_count": 2,
   "id": "93ce4a7c",
   "metadata": {},
   "outputs": [
    {
     "ename": "error",
     "evalue": "OpenCV(4.0.1) C:\\ci\\opencv-suite_1573470242804\\work\\opencv_contrib-4.0.1\\modules\\xfeatures2d\\src\\sift.cpp:1207: error: (-213:The function/feature is not implemented) This algorithm is patented and is excluded in this configuration; Set OPENCV_ENABLE_NONFREE CMake option and rebuild the library in function 'cv::xfeatures2d::SIFT::create'\n",
     "output_type": "error",
     "traceback": [
      "\u001b[1;31m---------------------------------------------------------------------------\u001b[0m",
      "\u001b[1;31merror\u001b[0m                                     Traceback (most recent call last)",
      "\u001b[1;32m<ipython-input-2-05ac1bf08aae>\u001b[0m in \u001b[0;36m<module>\u001b[1;34m\u001b[0m\n\u001b[0;32m     25\u001b[0m '''\n\u001b[0;32m     26\u001b[0m \u001b[1;31m#sift = cv2.SIFT()\u001b[0m\u001b[1;33m\u001b[0m\u001b[1;33m\u001b[0m\u001b[1;33m\u001b[0m\u001b[0m\n\u001b[1;32m---> 27\u001b[1;33m \u001b[0msift\u001b[0m \u001b[1;33m=\u001b[0m \u001b[0mcv2\u001b[0m\u001b[1;33m.\u001b[0m\u001b[0mxfeatures2d\u001b[0m\u001b[1;33m.\u001b[0m\u001b[0mSIFT_create\u001b[0m\u001b[1;33m(\u001b[0m\u001b[1;33m)\u001b[0m\u001b[1;33m\u001b[0m\u001b[1;33m\u001b[0m\u001b[0m\n\u001b[0m\u001b[0;32m     28\u001b[0m \u001b[1;33m\u001b[0m\u001b[0m\n\u001b[0;32m     29\u001b[0m  \u001b[1;31m#La función # sift.detect () es encontrar puntos clave en la imagen. Si solo desea reducir parte de la imagen, puede pasar la máscara\u001b[0m\u001b[1;33m\u001b[0m\u001b[1;33m\u001b[0m\u001b[1;33m\u001b[0m\u001b[0m\n",
      "\u001b[1;31merror\u001b[0m: OpenCV(4.0.1) C:\\ci\\opencv-suite_1573470242804\\work\\opencv_contrib-4.0.1\\modules\\xfeatures2d\\src\\sift.cpp:1207: error: (-213:The function/feature is not implemented) This algorithm is patented and is excluded in this configuration; Set OPENCV_ENABLE_NONFREE CMake option and rebuild the library in function 'cv::xfeatures2d::SIFT::create'\n"
     ]
    }
   ],
   "source": [
    "# -*- coding: utf-8 -*-\n",
    "'''\n",
    "Introducción a SIFT (Transformación de características invariables de escala)\n",
    " El algoritmo SIFT implica principalmente cuatro pasos:\n",
    " 1. Detección extrema de espacio de escala (detección de extremo de espacio de escala)\n",
    " 2. Localización de puntos clave.\n",
    " 3. Asignación de dirección\n",
    " 4. Descriptor de punto clave\n",
    " 5. Coincidencia de puntos clave\n",
    " La siguiente demostración es la función SIFT en OpenCV: cv2.SIFT ()\n",
    "'''\n",
    " \n",
    "import cv2\n",
    " \n",
    "img = cv2.imread('images/lena.jpg')\n",
    "gray = cv2.cvtColor(img, cv2.COLOR_BGR2GRAY)\n",
    " \n",
    "'''\n",
    " Cuando se usa OpenCV con Python para SIFT, la compilación tiene estos problemas:\n",
    "AttributeError: module 'cv2' has no attribute 'SIFT'\n",
    " El código de error es el siguiente:\n",
    "sift = cv2.SIFT()\n",
    " Motivo: opencv ha integrado SIFT y otros algoritmos en la colección xfeatures2d. La redacción modificada es la siguiente:\n",
    "sift=cv2.xfeatures2d.SIFT_create()\n",
    "'''\n",
    "#sift = cv2.SIFT()\n",
    "sift = cv2.xfeatures2d.SIFT_create()\n",
    " \n",
    " #La función # sift.detect () es encontrar puntos clave en la imagen. Si solo desea reducir parte de la imagen, puede pasar la máscara\n",
    " # Cada punto clave es una estructura especial con muchos atributos. Como coordenadas (x, y), tamaño de campo significativo, especificar el ángulo de su dirección, especificar la respuesta de la intensidad de los puntos clave, etc.\n",
    "kp = sift.detect(gray, None)\n",
    " \n",
    " # drawKeypoints: la primera imagen de entrada del parámetro, el segundo punto clave del parámetro, la tercera imagen de salida del parámetro\n",
    " # cv2.drawKeypoints () se usa para dibujar círculos pequeños en la posición de los puntos clave. Si le pasa una bandera cv2.DRAW_MATCHES_FLAGS_DRAW_RICH_KEYPOINTS,\n",
    " # Se dibujará un círculo con un tamaño como punto clave, e incluso se mostrará su dirección.\n",
    "# img = cv2.drawKeypoints(gray, kp, img)\n",
    "img = cv2.drawKeypoints(gray, kp, img, flags=cv2.DRAW_MATCHES_FLAGS_DRAW_OVER_OUTIMG)\n",
    "cv2.imwrite('sift_keypoints.jpg', img)\n",
    " \n",
    "'''\n",
    " Ahora para calcular el descriptor, OpenCV proporciona dos métodos:\n",
    " 1. Ahora que se ha encontrado el punto clave, puede usar sift.compute () para calcular el descriptor del punto clave, por ejemplo: kp, des = sift.compute (gris, kp)\n",
    " 2. Si no se encuentra el punto clave, puede usar la función sift.detectAndCompute () para buscar directamente el punto clave y el descriptor en un solo paso: de la siguiente manera:\n",
    "'''\n",
    " # El kp que se encuentra aquí será una lista de puntos clave, y des es una matriz numpy de forma Number_of_Keypoints * 128\n",
    "kp, des = sift.detectAndCompute(gray, None)\n",
    " \n",
    "cv2.imshow('sift_keypoints', img)\n",
    "cv2.waitKey(0) & 0xFF\n",
    "cv2.destroyAllWindows()"
   ]
  },
  {
   "cell_type": "code",
   "execution_count": null,
   "id": "b59fa4f5",
   "metadata": {},
   "outputs": [],
   "source": [
    "#7"
   ]
  },
  {
   "cell_type": "code",
   "execution_count": 18,
   "id": "fd8f4040",
   "metadata": {},
   "outputs": [
    {
     "ename": "error",
     "evalue": "OpenCV(4.0.1) C:\\ci\\opencv-suite_1573470242804\\work\\opencv_contrib-4.0.1\\modules\\xfeatures2d\\src\\sift.cpp:1207: error: (-213:The function/feature is not implemented) This algorithm is patented and is excluded in this configuration; Set OPENCV_ENABLE_NONFREE CMake option and rebuild the library in function 'cv::xfeatures2d::SIFT::create'\n",
     "output_type": "error",
     "traceback": [
      "\u001b[1;31m---------------------------------------------------------------------------\u001b[0m",
      "\u001b[1;31merror\u001b[0m                                     Traceback (most recent call last)",
      "\u001b[1;32m<ipython-input-18-199065594503>\u001b[0m in \u001b[0;36m<module>\u001b[1;34m\u001b[0m\n\u001b[0;32m      7\u001b[0m \u001b[0mimagegray\u001b[0m \u001b[1;33m=\u001b[0m \u001b[0mcv2\u001b[0m\u001b[1;33m.\u001b[0m\u001b[0mcvtColor\u001b[0m\u001b[1;33m(\u001b[0m\u001b[0mimageread\u001b[0m\u001b[1;33m,\u001b[0m \u001b[0mcv2\u001b[0m\u001b[1;33m.\u001b[0m\u001b[0mCOLOR_BGR2GRAY\u001b[0m\u001b[1;33m)\u001b[0m\u001b[1;33m\u001b[0m\u001b[1;33m\u001b[0m\u001b[0m\n\u001b[0;32m      8\u001b[0m \u001b[1;31m#implementing SIFT algorithm to detect key points in the image\u001b[0m\u001b[1;33m\u001b[0m\u001b[1;33m\u001b[0m\u001b[1;33m\u001b[0m\u001b[0m\n\u001b[1;32m----> 9\u001b[1;33m \u001b[0msiftfeatures\u001b[0m \u001b[1;33m=\u001b[0m \u001b[0mcv2\u001b[0m\u001b[1;33m.\u001b[0m\u001b[0mxfeatures2d\u001b[0m\u001b[1;33m.\u001b[0m\u001b[0mSIFT_create\u001b[0m\u001b[1;33m(\u001b[0m\u001b[1;33m)\u001b[0m\u001b[1;33m\u001b[0m\u001b[1;33m\u001b[0m\u001b[0m\n\u001b[0m\u001b[0;32m     10\u001b[0m \u001b[0mkeypoints\u001b[0m \u001b[1;33m=\u001b[0m \u001b[0msiftfeatures\u001b[0m\u001b[1;33m.\u001b[0m\u001b[0mdetect\u001b[0m\u001b[1;33m(\u001b[0m\u001b[0mimagegray\u001b[0m\u001b[1;33m,\u001b[0m \u001b[1;32mNone\u001b[0m\u001b[1;33m)\u001b[0m\u001b[1;33m\u001b[0m\u001b[1;33m\u001b[0m\u001b[0m\n\u001b[0;32m     11\u001b[0m \u001b[1;31m#drawing the key points on the input image using drawKeypoints() function\u001b[0m\u001b[1;33m\u001b[0m\u001b[1;33m\u001b[0m\u001b[1;33m\u001b[0m\u001b[0m\n",
      "\u001b[1;31merror\u001b[0m: OpenCV(4.0.1) C:\\ci\\opencv-suite_1573470242804\\work\\opencv_contrib-4.0.1\\modules\\xfeatures2d\\src\\sift.cpp:1207: error: (-213:The function/feature is not implemented) This algorithm is patented and is excluded in this configuration; Set OPENCV_ENABLE_NONFREE CMake option and rebuild the library in function 'cv::xfeatures2d::SIFT::create'\n"
     ]
    }
   ],
   "source": [
    "#importing the cv2 module\n",
    "import cv2\n",
    "#reading the image whose key points are to be detected using imread() function\n",
    "imageread = cv2.imread('images/plane.jpg')\n",
    "cv2.imshow('plane', imageread)\n",
    "#converting the given image to grayscale image\n",
    "imagegray = cv2.cvtColor(imageread, cv2.COLOR_BGR2GRAY)\n",
    "#implementing SIFT algorithm to detect key points in the image\n",
    "siftfeatures = cv2.xfeatures2d.SIFT_create()\n",
    "keypoints = siftfeatures.detect(imagegray, None)\n",
    "#drawing the key points on the input image using drawKeypoints() function\n",
    "resultimage = cv2.drawKeypoints(imagegray, keypoints, 0, (0, 255, 0), flags=cv2.DRAW_MATCHES_FLAGS_DEFAULT)\n",
    "#displaying the image with keypoints as the output on the screen\n",
    "cv2.imshow('image_with_keypoints', resultimage)\n",
    "cv2.waitKey(0)\n",
    "cv2.destroyAllWindows()"
   ]
  },
  {
   "cell_type": "code",
   "execution_count": null,
   "id": "507b21d7",
   "metadata": {},
   "outputs": [],
   "source": [
    "#8"
   ]
  },
  {
   "cell_type": "code",
   "execution_count": 3,
   "id": "fdb485db",
   "metadata": {},
   "outputs": [
    {
     "name": "stdout",
     "output_type": "stream",
     "text": [
      "Threshold: 10\n",
      "nonmaxSuppression:True\n",
      "neighborhood: 2\n",
      "Total Keypoints with nonmaxSuppression: 1145\n",
      "Total Keypoints without nonmaxSuppression: 7084\n"
     ]
    },
    {
     "data": {
      "text/plain": [
       "True"
      ]
     },
     "execution_count": 3,
     "metadata": {},
     "output_type": "execute_result"
    }
   ],
   "source": [
    "import numpy as np\n",
    "import cv2 as cv\n",
    "from matplotlib import pyplot as plt\n",
    "img = cv.imread('images/board.png',0)\n",
    "# Inicializar el objeto FAST con valores predeterminados\n",
    "fast = cv.FastFeatureDetector_create()\n",
    " # Encuentra y dibuja puntos clave\n",
    "kp = fast.detect(img,None)\n",
    "img2 = cv.drawKeypoints(img, kp, None, color=(255,0,0))\n",
    " # Imprime todos los parámetros predeterminados\n",
    "print( \"Threshold: {}\".format(fast.getThreshold()) )\n",
    "print( \"nonmaxSuppression:{}\".format(fast.getNonmaxSuppression()) )\n",
    "print( \"neighborhood: {}\".format(fast.getType()) )\n",
    "print( \"Total Keypoints with nonmaxSuppression: {}\".format(len(kp)) )\n",
    "cv.imwrite('fast_true.png',img2)\n",
    " # Desactivar la supresión no máxima\n",
    "fast.setNonmaxSuppression(0)\n",
    "kp = fast.detect(img,None)\n",
    "print( \"Total Keypoints without nonmaxSuppression: {}\".format(len(kp)) )\n",
    "img3 = cv.drawKeypoints(img, kp, None, color=(255,0,0))\n",
    "cv.imwrite('fast_false.png',img3)"
   ]
  },
  {
   "cell_type": "code",
   "execution_count": null,
   "id": "e00e0179",
   "metadata": {},
   "outputs": [],
   "source": [
    "#9"
   ]
  },
  {
   "cell_type": "code",
   "execution_count": 4,
   "id": "0eea567d",
   "metadata": {},
   "outputs": [
    {
     "name": "stdout",
     "output_type": "stream",
     "text": [
      "Threshold: 10\n",
      "nonmaxSuppression:True\n",
      "neighborhood: 2\n",
      "Total Keypoints with nonmaxSuppression: 3537\n",
      "Total Keypoints without nonmaxSuppression: 11951\n"
     ]
    }
   ],
   "source": [
    "import numpy as np\n",
    "import cv2\n",
    "from matplotlib import pyplot as plt\n",
    "\n",
    "img = cv2.imread('images/lena.jpg')\n",
    "# Initiate FAST object with default values\n",
    "fast = cv2.FastFeatureDetector_create()\n",
    "\n",
    "# find and draw the keypoints\n",
    "kp = fast.detect(img,None)\n",
    "img2 = cv2.drawKeypoints(img, kp, None, color=(255,0,0))\n",
    "\n",
    "# Print all default params\n",
    "print( \"Threshold: {}\".format(fast.getThreshold()) )\n",
    "print( \"nonmaxSuppression:{}\".format(fast.getNonmaxSuppression()) )\n",
    "print( \"neighborhood: {}\".format(fast.getType()) )\n",
    "print( \"Total Keypoints with nonmaxSuppression: {}\".format(len(kp)) )\n",
    "\n",
    "cv2.imshow('fast_true',img2)\n",
    "\n",
    "# Disable nonmaxSuppression\n",
    "fast.setNonmaxSuppression(0)\n",
    "kp = fast.detect(img,None)\n",
    "\n",
    "print( \"Total Keypoints without nonmaxSuppression: {}\".format(len(kp)) )\n",
    "\n",
    "img3 = cv2.drawKeypoints(img, kp, None, color=(255,0,0))\n",
    "\n",
    "cv2.imshow('fast_false',img3)\n",
    "\n",
    "cv2.waitKey()\n",
    "cv2.destroyAllWindows()"
   ]
  },
  {
   "cell_type": "code",
   "execution_count": null,
   "id": "34953a37",
   "metadata": {},
   "outputs": [],
   "source": []
  }
 ],
 "metadata": {
  "kernelspec": {
   "display_name": "Python 3",
   "language": "python",
   "name": "python3"
  },
  "language_info": {
   "codemirror_mode": {
    "name": "ipython",
    "version": 3
   },
   "file_extension": ".py",
   "mimetype": "text/x-python",
   "name": "python",
   "nbconvert_exporter": "python",
   "pygments_lexer": "ipython3",
   "version": "3.8.8"
  }
 },
 "nbformat": 4,
 "nbformat_minor": 5
}
